{
 "cells": [
  {
   "cell_type": "code",
   "execution_count": 23,
   "metadata": {},
   "outputs": [],
   "source": [
    "import pandas as pd\n",
    "\n",
    "# 读取数据库文件\n",
    "df = pd.read_excel('Database2023428.xlsx')\n",
    "\n",
    "# 将名称为\"比例A\"的列中的所有数字进行处理\n",
    "for col in df.columns:\n",
    "    if col.startswith('比例A'):\n",
    "        # 只处理\"A溶剂\"列不为\"水\"的那些条目\n",
    "        df.loc[(df['A溶剂'] != '水') & df[col].notnull(), col] = 100-df.loc[(df['A溶剂'] != '水') & df[col].notnull(), col]\n",
    "\n",
    "# 将\"A溶剂\"列中为\"水\"的项的对应\"B溶剂\"项替换为\"A溶剂\"的原始值\n",
    "# 遍历每一行\n",
    "for index, row in df.iterrows():\n",
    "    # 如果A溶剂不是水\n",
    "    if row['A溶剂'] != '水':\n",
    "        # 将A溶剂内容放到B溶剂下\n",
    "        df.at[index+1, 'B溶剂'] = row['A溶剂']\n",
    "        # 将A溶剂内容改为水\n",
    "        df.at[index, 'A溶剂'] = '水'\n",
    "# 保存文件\n",
    "df.to_excel('your_new_file.xlsx', index=False)"
   ]
  }
 ],
 "metadata": {
  "kernelspec": {
   "display_name": "env_name",
   "language": "python",
   "name": "python3"
  },
  "language_info": {
   "codemirror_mode": {
    "name": "ipython",
    "version": 3
   },
   "file_extension": ".py",
   "mimetype": "text/x-python",
   "name": "python",
   "nbconvert_exporter": "python",
   "pygments_lexer": "ipython3",
   "version": "3.9.16"
  },
  "orig_nbformat": 4
 },
 "nbformat": 4,
 "nbformat_minor": 2
}
