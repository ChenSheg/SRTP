{
 "cells": [
  {
   "cell_type": "code",
   "execution_count": 1,
   "metadata": {},
   "outputs": [],
   "source": [
    "import pandas as pd\n",
    "from sklearn.model_selection import train_test_split\n",
    "import numpy as np"
   ]
  },
  {
   "cell_type": "code",
   "execution_count": 2,
   "metadata": {},
   "outputs": [],
   "source": [
    "import warnings\n",
    "warnings.filterwarnings('ignore')"
   ]
  },
  {
   "cell_type": "code",
   "execution_count": 3,
   "metadata": {},
   "outputs": [],
   "source": [
    "data=pd.read_csv('Database.csv',index_col=None)"
   ]
  },
  {
   "cell_type": "code",
   "execution_count": 4,
   "metadata": {},
   "outputs": [],
   "source": [
    "Label=data.iloc[:,-22:-3]\n",
    "for i in range(Label.shape[0]):\n",
    "    for j in range(Label.shape[1]):\n",
    "        if Label.iloc[i,j]!=0:\n",
    "            Label.iloc[i,j]=1\n",
    "Label.to_csv('Label.csv',index=False)"
   ]
  },
  {
   "cell_type": "code",
   "execution_count": 5,
   "metadata": {},
   "outputs": [
    {
     "data": {
      "text/plain": [
       "(99, 81)"
      ]
     },
     "execution_count": 5,
     "metadata": {},
     "output_type": "execute_result"
    }
   ],
   "source": [
    "x=data.iloc[:,4:12]\n",
    "x_encode=pd.get_dummies(x,columns=x.columns)\n",
    "x_encode.to_csv('x_encode.csv',encoding='utf-8_sig')\n",
    "x_encode.shape\n"
   ]
  },
  {
   "cell_type": "code",
   "execution_count": 6,
   "metadata": {},
   "outputs": [],
   "source": [
    "X_train,X_test,Y_train,Y_test=train_test_split(x_encode,Label,test_size=0.25,shuffle=True)"
   ]
  },
  {
   "cell_type": "code",
   "execution_count": 7,
   "metadata": {},
   "outputs": [],
   "source": [
    "from sklearn.pipeline import Pipeline\n",
    "from sklearn.multioutput import MultiOutputClassifier\n",
    "##from xgboost import XGBClassifier\n",
    "##from sklearn.neural_network import MLPClassifier\n",
    "from sklearn.ensemble import RandomForestClassifier\n",
    "Multi_Classifier=MultiOutputClassifier(RandomForestClassifier())\n",
    "clf_classification=Pipeline([('Classifier',Multi_Classifier)])\n",
    "clf_classification.fit(X_train,Y_train)\n",
    "y_pred=pd.DataFrame(Multi_Classifier.predict(X_test))\n",
    "y_pred.columns=pd.DataFrame(Label).columns\n",
    "y_pred.to_csv('D:/OneDrive/SRTP/output_pred.csv',encoding='utf-8_sig')\n",
    "Y_test.to_csv('D:/OneDrive/SRTP/output_test.csv',encoding='utf-8_sig')"
   ]
  },
  {
   "cell_type": "code",
   "execution_count": 8,
   "metadata": {},
   "outputs": [
    {
     "data": {
      "text/plain": [
       "['predictnucleoside.joblib']"
      ]
     },
     "execution_count": 8,
     "metadata": {},
     "output_type": "execute_result"
    }
   ],
   "source": [
    "from joblib import dump\n",
    "dump(clf_classification, 'predictnucleoside.joblib')"
   ]
  },
  {
   "cell_type": "code",
   "execution_count": 9,
   "metadata": {},
   "outputs": [
    {
     "name": "stdout",
     "output_type": "stream",
     "text": [
      "              precision    recall  f1-score   support\n",
      "\n",
      "           0       0.00      0.00      0.00         1\n",
      "           1       0.73      0.69      0.71        16\n",
      "           2       0.56      0.71      0.63         7\n",
      "           3       0.82      0.75      0.78        12\n",
      "           4       0.33      0.17      0.22         6\n",
      "           5       1.00      0.33      0.50         3\n",
      "           6       0.95      0.86      0.90        22\n",
      "           7       0.00      0.00      0.00         1\n",
      "           8       0.00      0.00      0.00         3\n",
      "           9       0.50      0.78      0.61         9\n",
      "          10       0.75      0.40      0.52        15\n",
      "          11       0.00      0.00      0.00         2\n",
      "          12       0.73      0.89      0.80        18\n",
      "          13       0.00      0.00      0.00         2\n",
      "          14       0.75      0.75      0.75         8\n",
      "          15       0.78      1.00      0.88        18\n",
      "          16       0.00      0.00      0.00         1\n",
      "          17       1.00      1.00      1.00         1\n",
      "          18       0.00      0.00      0.00         1\n",
      "\n",
      "   micro avg       0.74      0.68      0.71       146\n",
      "   macro avg       0.47      0.44      0.44       146\n",
      "weighted avg       0.69      0.68      0.67       146\n",
      " samples avg       0.73      0.69      0.67       146\n",
      "\n",
      "0.1726315789473684\n"
     ]
    }
   ],
   "source": [
    "from sklearn.metrics import classification_report\n",
    "print(classification_report(Y_test,y_pred))\n",
    "from sklearn.metrics import hamming_loss\n",
    "print(hamming_loss(Y_test,y_pred))"
   ]
  }
 ],
 "metadata": {
  "kernelspec": {
   "display_name": "env_name",
   "language": "python",
   "name": "python3"
  },
  "language_info": {
   "codemirror_mode": {
    "name": "ipython",
    "version": 3
   },
   "file_extension": ".py",
   "mimetype": "text/x-python",
   "name": "python",
   "nbconvert_exporter": "python",
   "pygments_lexer": "ipython3",
   "version": "3.9.16"
  },
  "orig_nbformat": 4,
  "vscode": {
   "interpreter": {
    "hash": "986e0487d2189ff19774a2579c31c2aa6da77096425a5e04c314781dc0e3e122"
   }
  }
 },
 "nbformat": 4,
 "nbformat_minor": 2
}
