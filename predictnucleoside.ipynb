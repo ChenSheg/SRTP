{
 "cells": [
  {
   "cell_type": "code",
   "execution_count": 19,
   "metadata": {},
   "outputs": [],
   "source": [
    "import pandas as pd\n",
    "from sklearn.model_selection import train_test_split\n",
    "import numpy as np"
   ]
  },
  {
   "cell_type": "code",
   "execution_count": 20,
   "metadata": {},
   "outputs": [],
   "source": [
    "import warnings\n",
    "warnings.filterwarnings('ignore')"
   ]
  },
  {
   "cell_type": "code",
   "execution_count": 21,
   "metadata": {},
   "outputs": [],
   "source": [
    "data=pd.read_csv('Database.csv',index_col=None)"
   ]
  },
  {
   "cell_type": "code",
   "execution_count": 22,
   "metadata": {},
   "outputs": [],
   "source": [
    "Label=data.iloc[:,-22:-3]\n",
    "for i in range(Label.shape[0]):\n",
    "    for j in range(Label.shape[1]):\n",
    "        if Label.iloc[i,j]!=0:\n",
    "            Label.iloc[i,j]=1"
   ]
  },
  {
   "cell_type": "code",
   "execution_count": 23,
   "metadata": {},
   "outputs": [
    {
     "data": {
      "text/plain": [
       "(99, 82)"
      ]
     },
     "execution_count": 23,
     "metadata": {},
     "output_type": "execute_result"
    }
   ],
   "source": [
    "x=data.iloc[:,3:13]\n",
    "x_encode=pd.get_dummies(x,columns=x.columns)\n",
    "x_encode.shape"
   ]
  },
  {
   "cell_type": "code",
   "execution_count": 24,
   "metadata": {},
   "outputs": [],
   "source": [
    "from sklearn.decomposition import PCA\n",
    "pca=PCA(n_components=0.3)\n",
    "x_feature=pca.fit_transform(x_encode.values)"
   ]
  },
  {
   "cell_type": "code",
   "execution_count": 25,
   "metadata": {},
   "outputs": [],
   "source": [
    "X_train,X_test,Y_train,Y_test=train_test_split(x_feature,Label,test_size=0.25,shuffle=True)"
   ]
  },
  {
   "cell_type": "code",
   "execution_count": 26,
   "metadata": {},
   "outputs": [],
   "source": [
    "from sklearn.pipeline import Pipeline\n",
    "from sklearn.multioutput import MultiOutputClassifier\n",
    "##from xgboost import XGBClassifier\n",
    "##from sklearn.neural_network import MLPClassifier\n",
    "from sklearn.ensemble import RandomForestClassifier\n",
    "Multi_Classifier=MultiOutputClassifier(RandomForestClassifier())\n",
    "clf_classification=Pipeline([('Classifier',Multi_Classifier)])\n",
    "clf_classification.fit(X_train,Y_train)\n",
    "y_pred=pd.DataFrame(Multi_Classifier.predict(X_test))\n",
    "y_pred.columns=pd.DataFrame(Label).columns\n",
    "y_pred.to_csv('D:/OneDrive/SRTP/output_pred.csv',encoding='utf-8_sig')\n",
    "Y_test.to_csv('D:/OneDrive/SRTP/output_test.csv',encoding='utf-8_sig')"
   ]
  },
  {
   "cell_type": "code",
   "execution_count": 27,
   "metadata": {},
   "outputs": [
    {
     "name": "stdout",
     "output_type": "stream",
     "text": [
      "              precision    recall  f1-score   support\n",
      "\n",
      "           0       0.00      0.00      0.00         2\n",
      "           1       0.67      0.53      0.59        15\n",
      "           2       1.00      0.27      0.43        11\n",
      "           3       0.86      0.50      0.63        12\n",
      "           4       0.40      0.67      0.50         3\n",
      "           5       1.00      0.33      0.50         3\n",
      "           6       0.82      0.86      0.84        21\n",
      "           7       0.00      0.00      0.00         1\n",
      "           8       0.00      0.00      0.00         2\n",
      "           9       0.73      0.62      0.67        13\n",
      "          10       0.89      0.57      0.70        14\n",
      "          11       0.00      0.00      0.00         1\n",
      "          12       0.79      0.95      0.86        20\n",
      "          13       0.00      0.00      0.00         2\n",
      "          14       0.83      0.50      0.62        10\n",
      "          15       1.00      0.87      0.93        23\n",
      "          16       0.00      0.00      0.00         1\n",
      "          17       0.00      0.00      0.00         3\n",
      "          18       0.00      0.00      0.00         0\n",
      "\n",
      "   micro avg       0.80      0.62      0.70       157\n",
      "   macro avg       0.47      0.35      0.38       157\n",
      "weighted avg       0.78      0.62      0.67       157\n",
      " samples avg       0.80      0.66      0.70       157\n",
      "\n",
      "0.17684210526315788\n"
     ]
    }
   ],
   "source": [
    "from sklearn.metrics import classification_report\n",
    "print(classification_report(Y_test,y_pred))\n",
    "from sklearn.metrics import hamming_loss\n",
    "print(hamming_loss(Y_test,y_pred))"
   ]
  }
 ],
 "metadata": {
  "kernelspec": {
   "display_name": "env_name",
   "language": "python",
   "name": "python3"
  },
  "language_info": {
   "codemirror_mode": {
    "name": "ipython",
    "version": 3
   },
   "file_extension": ".py",
   "mimetype": "text/x-python",
   "name": "python",
   "nbconvert_exporter": "python",
   "pygments_lexer": "ipython3",
   "version": "3.9.16"
  },
  "orig_nbformat": 4,
  "vscode": {
   "interpreter": {
    "hash": "986e0487d2189ff19774a2579c31c2aa6da77096425a5e04c314781dc0e3e122"
   }
  }
 },
 "nbformat": 4,
 "nbformat_minor": 2
}
