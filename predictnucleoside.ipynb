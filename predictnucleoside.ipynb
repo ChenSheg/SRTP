{
 "cells": [
  {
   "cell_type": "code",
   "execution_count": 464,
   "metadata": {},
   "outputs": [],
   "source": [
    "import pandas as pd\n",
    "from sklearn.model_selection import train_test_split\n",
    "import numpy as np\n",
    "import matplotlib.pyplot as plt"
   ]
  },
  {
   "cell_type": "code",
   "execution_count": 465,
   "metadata": {},
   "outputs": [],
   "source": [
    "import warnings\n",
    "warnings.filterwarnings('ignore')"
   ]
  },
  {
   "cell_type": "code",
   "execution_count": 466,
   "metadata": {},
   "outputs": [],
   "source": [
    "data=pd.read_csv('Database.csv',index_col=None)"
   ]
  },
  {
   "cell_type": "code",
   "execution_count": 467,
   "metadata": {},
   "outputs": [],
   "source": [
    "Label=data.iloc[:,-22:-3]\n",
    "for i in range(Label.shape[0]):\n",
    "    for j in range(Label.shape[1]):\n",
    "        if Label.iloc[i,j]!=0:\n",
    "            Label.iloc[i,j]=1"
   ]
  },
  {
   "cell_type": "code",
   "execution_count": 468,
   "metadata": {},
   "outputs": [],
   "source": [
    "x=data.iloc[:,3:13]\n",
    "x_encode=pd.get_dummies(x,columns=x.columns)\n"
   ]
  },
  {
   "cell_type": "code",
   "execution_count": 469,
   "metadata": {},
   "outputs": [],
   "source": [
    "from sklearn.decomposition import PCA\n",
    "pca=PCA(n_components=0.3)\n",
    "x_feature=pca.fit_transform(x_encode.values)"
   ]
  },
  {
   "cell_type": "code",
   "execution_count": 470,
   "metadata": {},
   "outputs": [],
   "source": [
    "X_train,X_test,Y_train,Y_test=train_test_split(x_feature,Label,test_size=0.25,shuffle=True)"
   ]
  },
  {
   "cell_type": "code",
   "execution_count": 471,
   "metadata": {},
   "outputs": [
    {
     "name": "stdout",
     "output_type": "stream",
     "text": [
      "0.5540540540540541\n"
     ]
    }
   ],
   "source": [
    "from sklearn.pipeline import Pipeline\n",
    "from sklearn.multioutput import MultiOutputClassifier\n",
    "from xgboost import XGBClassifier\n",
    "Multi_Classifier=MultiOutputClassifier(XGBClassifier())\n",
    "clf_classification=Pipeline([('Classifier',Multi_Classifier)])\n",
    "clf_classification.fit(X_train,Y_train)\n",
    "print(clf_classification.score(X_train,Y_train))\n",
    "y_pred=pd.DataFrame(Multi_Classifier.predict(X_test))\n",
    "y_pred.columns=pd.DataFrame(Label).columns\n",
    "y_pred.to_csv('D:/OneDrive/SRTP/output_pred.csv',encoding='utf-8_sig')\n",
    "Y_test.to_csv('D:/OneDrive/SRTP/output_test.csv',encoding='utf-8_sig')"
   ]
  },
  {
   "cell_type": "code",
   "execution_count": 472,
   "metadata": {},
   "outputs": [
    {
     "name": "stdout",
     "output_type": "stream",
     "text": [
      "              precision    recall  f1-score   support\n",
      "\n",
      "           0       0.00      0.00      0.00         3\n",
      "           1       0.43      0.55      0.48        11\n",
      "           2       0.56      0.50      0.53        10\n",
      "           3       0.50      0.71      0.59         7\n",
      "           4       0.20      0.50      0.29         2\n",
      "           5       1.00      0.25      0.40         4\n",
      "           6       0.79      1.00      0.88        19\n",
      "           7       0.00      0.00      0.00         3\n",
      "           8       0.00      0.00      0.00         2\n",
      "           9       0.50      0.33      0.40        12\n",
      "          10       0.62      0.73      0.67        11\n",
      "          11       0.00      0.00      0.00         2\n",
      "          12       0.80      0.89      0.84        18\n",
      "          13       0.00      0.00      0.00         1\n",
      "          14       0.43      0.38      0.40         8\n",
      "          15       1.00      0.91      0.95        22\n",
      "          16       0.00      0.00      0.00         2\n",
      "          17       0.00      0.00      0.00         3\n",
      "          18       0.00      0.00      0.00         2\n",
      "\n",
      "   micro avg       0.66      0.62      0.64       142\n",
      "   macro avg       0.36      0.35      0.34       142\n",
      "weighted avg       0.60      0.62      0.60       142\n",
      " samples avg       0.68      0.67      0.62       142\n",
      "\n"
     ]
    }
   ],
   "source": [
    "from sklearn.metrics import classification_report\n",
    "print(classification_report(Y_test,y_pred))"
   ]
  },
  {
   "cell_type": "code",
   "execution_count": 473,
   "metadata": {},
   "outputs": [
    {
     "name": "stdout",
     "output_type": "stream",
     "text": [
      "[0.80986718 0.88233747 0.90487288 0.87980288 0.86516775]\n",
      "[0.5650224  0.59464285 0.63257337 0.62768328 0.62562799]\n"
     ]
    },
    {
     "data": {
      "text/plain": [
       "<function matplotlib.pyplot.show(close=None, block=None)>"
      ]
     },
     "execution_count": 473,
     "metadata": {},
     "output_type": "execute_result"
    },
    {
     "data": {
      "image/png": "[encoded data removed]",
      "text/plain": [
       "<Figure size 640x480 with 1 Axes>"
      ]
     },
     "metadata": {},
     "output_type": "display_data"
    }
   ],
   "source": [
    "from sklearn.model_selection import learning_curve\n",
    "train_size,train_score,valid_score=learning_curve(XGBClassifier(),x,Label,cv=10,scoring='f1_weighted',train_sizes=[0.2,0.4,0.6,0.8,1])\n",
    "train_score_mean=np.mean(train_score,axis=1)\n",
    "val_score_mean=np.mean(valid_score,axis=1)\n",
    "print(train_score_mean)\n",
    "print(val_score_mean)\n",
    "plt.plot(train_size,train_score_mean,'o-',color='g',label='Training')\n",
    "plt.plot(train_size,val_score_mean,'o-',color='b',label='Cross-validation')\n",
    "plt.xlabel('Training examples')\n",
    "plt.ylabel('Loss')\n",
    "plt.legend(loc='best')\n",
    "plt.show"
   ]
  }
 ],
 "metadata": {
  "kernelspec": {
   "display_name": "env_name",
   "language": "python",
   "name": "python3"
  },
  "language_info": {
   "codemirror_mode": {
    "name": "ipython",
    "version": 3
   },
   "file_extension": ".py",
   "mimetype": "text/x-python",
   "name": "python",
   "nbconvert_exporter": "python",
   "pygments_lexer": "ipython3",
   "version": "3.9.16"
  },
  "orig_nbformat": 4,
  "vscode": {
   "interpreter": {
    "hash": "986e0487d2189ff19774a2579c31c2aa6da77096425a5e04c314781dc0e3e122"
   }
  }
 },
 "nbformat": 4,
 "nbformat_minor": 2
}
